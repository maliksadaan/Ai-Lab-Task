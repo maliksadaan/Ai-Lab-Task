{
  "nbformat": 4,
  "nbformat_minor": 0,
  "metadata": {
    "colab": {
      "provenance": []
    },
    "kernelspec": {
      "name": "python3",
      "display_name": "Python 3"
    },
    "language_info": {
      "name": "python"
    }
  },
  "cells": [
    {
      "cell_type": "markdown",
      "source": [
        "**Activity 1**\n",
        "Use loops to accept 5 values from user and store them in a list. Display all the values (objects) of the list."
      ],
      "metadata": {
        "id": "hPqKyzmvu-g6"
      }
    },
    {
      "cell_type": "code",
      "source": [
        "mylist=[]\n",
        "for i in range(5):\n",
        "     val=input(\"enter a value\")\n",
        "     mylist.append(val)\n",
        "print(\"the given list is\")\n",
        "print(mylist)"
      ],
      "metadata": {
        "colab": {
          "base_uri": "https://localhost:8080/"
        },
        "id": "mkTQkGDLvFJK",
        "outputId": "116f486d-e101-4845-94ce-106145d9562c"
      },
      "execution_count": null,
      "outputs": [
        {
          "output_type": "stream",
          "name": "stdout",
          "text": [
            "enter a value1\n",
            "enter a value2\n",
            "enter a value3\n",
            "enter a value4\n",
            "enter a value5\n",
            "the given list is\n",
            "['1', '2', '3', '4', '5']\n"
          ]
        }
      ]
    },
    {
      "cell_type": "markdown",
      "source": [
        "**Activity 2**\n",
        "Repeat the above code by accepting 5 integer values from user. Store these values in a list and display the sum of given values.\n",
        "\n"
      ],
      "metadata": {
        "id": "PtjtPmLxyVBL"
      }
    },
    {
      "cell_type": "code",
      "source": [
        "mylist=[]\n",
        "for i in range(5):\n",
        "    val=input(\"enter a value\")\n",
        "    n=int(val)\n",
        "    mylist.append(n)\n",
        "sum=0\n",
        "for n in mylist:\n",
        "  sum=sum+n\n",
        "print(\"the sum of given value is\",sum)"
      ],
      "metadata": {
        "colab": {
          "base_uri": "https://localhost:8080/"
        },
        "id": "nbwVViUGyaD2",
        "outputId": "6b1f7b44-3c83-4820-f878-a9f3d9b85651"
      },
      "execution_count": null,
      "outputs": [
        {
          "output_type": "stream",
          "name": "stdout",
          "text": [
            "enter a value1\n",
            "enter a value2\n",
            "enter a value3\n",
            "enter a value4\n",
            "enter a value5\n",
            "the sum of given value is 15\n"
          ]
        }
      ]
    },
    {
      "cell_type": "markdown",
      "source": [
        "**Activity 3**\n",
        "Accept 5 integer values from user. Store these values in a list and display the list in ascending order."
      ],
      "metadata": {
        "id": "2Kv3Alxdz4qT"
      }
    },
    {
      "cell_type": "code",
      "source": [
        "46mylist=[]\n",
        "for i in range (5):\n",
        "    val=input(\" enter value \")\n",
        "    n=int(val)\n",
        "    mylist.append (n)\n",
        "mylist.sort()\n",
        "b=min(mylist)\n",
        "a=max(mylist)\n",
        "print(a)\n",
        "print(b)\n",
        "print(mylist)"
      ],
      "metadata": {
        "colab": {
          "base_uri": "https://localhost:8080/"
        },
        "id": "rC7eH1H2z9EP",
        "outputId": "a31cf419-808a-4a09-d23d-0645be54abb6"
      },
      "execution_count": null,
      "outputs": [
        {
          "output_type": "stream",
          "name": "stdout",
          "text": [
            " enter value 33\n",
            " enter value 43\n",
            " enter value 54\n",
            " enter value 65\n",
            " enter value 76\n",
            "76\n",
            "33\n",
            "[33, 43, 54, 65, 76]\n",
            " enter value 33\n",
            " enter value 22\n",
            " enter value 11\n",
            " enter value 13\n",
            " enter value 35\n",
            "35\n",
            "11\n",
            "[11, 13, 22, 33, 35]\n"
          ]
        }
      ]
    },
    {
      "cell_type": "markdown",
      "source": [
        "**activity 4**\n",
        "Accept two lists from user and display their join."
      ],
      "metadata": {
        "id": "Fgp_BzAI2BtJ"
      }
    },
    {
      "cell_type": "code",
      "source": [
        "mylist1=[]\n",
        "print(\" enter objecs of first list \")\n",
        "for i in range (5):\n",
        "  val=input(\"enter a value \")\n",
        "  n=int(val)\n",
        "  mylist1.append(n)\n",
        "mylist2=[]\n",
        "print(\" enter objecs of second list \")\n",
        "for i in range (5):\n",
        "  val=input(\"enter a value \")\n",
        "  n=int(val)\n",
        "  mylist2.append(n)\n",
        "list3=mylist1+mylist\n",
        "print(list3)\n",
        "  "
      ],
      "metadata": {
        "colab": {
          "base_uri": "https://localhost:8080/"
        },
        "id": "Uvc4vMu62IMq",
        "outputId": "ef5ea4ce-5b8e-44c1-a7f3-b1ab42b76919"
      },
      "execution_count": null,
      "outputs": [
        {
          "output_type": "stream",
          "name": "stdout",
          "text": [
            " enter objecs of first list \n",
            "enter a value 87\n",
            "enter a value 87\n",
            "enter a value 66\n",
            "enter a value 55\n",
            "enter a value 44\n",
            " enter objecs of second list \n",
            "enter a value 44\n",
            "enter a value 33\n",
            "enter a value 22\n",
            "enter a value 13\n",
            "enter a value 55\n",
            "[87, 87, 66, 55, 44, 33, 43, 54, 65, 76]\n"
          ]
        }
      ]
    },
    {
      "cell_type": "markdown",
      "source": [
        "**Activity 5**\n",
        "Write a Python code to accept a list from user and find a required element in it."
      ],
      "metadata": {
        "id": "7r0jAI-y9siT"
      }
    },
    {
      "cell_type": "code",
      "source": [
        "mylist=[]\n",
        "print(\"enter object of first list \")\n",
        "for i in range (5):\n",
        "  val=input(\" enter a value \")\n",
        "  n=int(val)\n",
        "  mylist.append(n)\n",
        "print(mylist)\n",
        "s=input(\"enter a value to find a list \")\n",
        "n=int(s)\n",
        "found=n in mylist\n",
        "if found==True:\n",
        "  print(\"found\")\n",
        "else:\n",
        "  print(\"not found\")\n"
      ],
      "metadata": {
        "colab": {
          "base_uri": "https://localhost:8080/"
        },
        "id": "Kr-cVQ5H9y95",
        "outputId": "16de86f8-ac6b-4049-88eb-1cc12d0d2347"
      },
      "execution_count": null,
      "outputs": [
        {
          "output_type": "stream",
          "name": "stdout",
          "text": [
            "enter object of first list \n",
            " enter a value 2\n",
            " enter a value 3\n",
            " enter a value 4\n",
            " enter a value 5\n",
            " enter a value 6\n",
            "[2, 3, 4, 5, 6]\n",
            "enter a value to find a list 6\n",
            "found\n"
          ]
        }
      ]
    },
    {
      "cell_type": "markdown",
      "source": [
        "**activity 6**\n",
        "\n",
        "Write a function called say_hello that takes in a person’s name as a parameter. The function should print a greeting message with the person’s name. Then call the function three times with three different names."
      ],
      "metadata": {
        "id": "ZxQJF25JDpVz"
      }
    },
    {
      "cell_type": "code",
      "source": [
        "def say_hello(s):\n",
        "    print(\"hello\",s)\n",
        "for i in range(3):\n",
        "    s=input(\"enter name : \")\n",
        "    say_hello(s)"
      ],
      "metadata": {
        "colab": {
          "base_uri": "https://localhost:8080/"
        },
        "id": "5Zk3dpahDtFG",
        "outputId": "132bc052-42a0-4b98-91dd-a2b25b108720"
      },
      "execution_count": null,
      "outputs": [
        {
          "output_type": "stream",
          "name": "stdout",
          "text": [
            "enter name : sadaan\n",
            "hello sadaan\n",
            "enter name : sadaan\n",
            "hello sadaan\n",
            "enter name : dani\n",
            "hello dani\n"
          ]
        }
      ]
    },
    {
      "cell_type": "markdown",
      "source": [
        "**activity 7**\n",
        "A palindrome is a string which is same read forward or backwards. For example: “dad” is the same in forward or reverse direction. Another example is “aibohphobia” which literally means, an irritable fear of palindromes.\n",
        "\n"
      ],
      "metadata": {
        "id": "wYrUaA-NF8Re"
      }
    },
    {
      "cell_type": "code",
      "source": [
        "def isPalindrome(word):\n",
        "  temp=word[:: -1]\n",
        "  if temp.capitalize()==word.capitalize():\n",
        "    return True\n",
        "  else:\n",
        "    return False\n",
        "print(isPalindrome(\"deed\"))"
      ],
      "metadata": {
        "colab": {
          "base_uri": "https://localhost:8080/"
        },
        "id": "fxNgMWluGBWW",
        "outputId": "18b4ea52-fac2-4b98-9fbb-39f1e03574cf"
      },
      "execution_count": null,
      "outputs": [
        {
          "output_type": "stream",
          "name": "stdout",
          "text": [
            "True\n"
          ]
        }
      ]
    },
    {
      "cell_type": "markdown",
      "source": [
        "**Activity 8**\n",
        "Write a python code that finds another matrix/2D list that is a product of and b, i.e."
      ],
      "metadata": {
        "id": "y4VWcBfvGxlN"
      }
    },
    {
      "cell_type": "code",
      "source": [
        "a = [[1, 0, 0], [0, 1, 0], [0, 0, 1] ]\n",
        "b = [[1, 2, 3], [4, 5, 6], [7, 8, 9] ]\n",
        "c=[]\n",
        "for indrow in range (3):\n",
        "    c.append([])\n",
        "    for indcol in range (3):\n",
        "       c[indrow].append (0)\n",
        "       for indaux in range (3):\n",
        "          c[indrow] [indcol] += a[indrow] [indaux] *b[indcol] [indaux]\n",
        "print(c)"
      ],
      "metadata": {
        "id": "ik4P8JVwG81O",
        "colab": {
          "base_uri": "https://localhost:8080/"
        },
        "outputId": "e99b1de6-4416-424d-c71b-d9bb689fec1e"
      },
      "execution_count": null,
      "outputs": [
        {
          "output_type": "stream",
          "name": "stdout",
          "text": [
            "[[1, 4, 7], [2, 5, 8], [3, 6, 9]]\n"
          ]
        }
      ]
    },
    {
      "cell_type": "markdown",
      "source": [
        "**Activity 9**\n",
        "\n",
        "A closed polygon with N sides can be represented as a list of tuples of N connected coordinates."
      ],
      "metadata": {
        "id": "edulaSKpNsBN"
      }
    },
    {
      "cell_type": "code",
      "source": [],
      "metadata": {
        "id": "QiOEFRfON1nu"
      },
      "execution_count": null,
      "outputs": []
    }
  ]
}